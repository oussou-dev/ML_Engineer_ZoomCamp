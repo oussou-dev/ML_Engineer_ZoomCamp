{
 "cells": [
  {
   "cell_type": "markdown",
   "source": [
    "# **Homework - Session 2**"
   ],
   "metadata": {}
  },
  {
   "cell_type": "markdown",
   "source": [
    "## **Import libs**"
   ],
   "metadata": {}
  },
  {
   "cell_type": "code",
   "execution_count": 1,
   "source": [
    "import numpy as np\n",
    "import pandas as pd"
   ],
   "outputs": [],
   "metadata": {}
  },
  {
   "cell_type": "markdown",
   "source": [
    "## **EDA**"
   ],
   "metadata": {}
  },
  {
   "cell_type": "markdown",
   "source": [
    "### **Load the Data**"
   ],
   "metadata": {}
  },
  {
   "cell_type": "code",
   "execution_count": 7,
   "source": [
    "data = pd.read_csv(\"https://raw.githubusercontent.com/alexeygrigorev/datasets/master/AB_NYC_2019.csv\", sep=\",\")"
   ],
   "outputs": [],
   "metadata": {}
  },
  {
   "cell_type": "code",
   "execution_count": 6,
   "source": [
    "data.head(2)"
   ],
   "outputs": [
    {
     "output_type": "execute_result",
     "data": {
      "text/plain": [
       "     id                                name  host_id host_name  \\\n",
       "0  2539  Clean & quiet apt home by the park     2787      John   \n",
       "1  2595               Skylit Midtown Castle     2845  Jennifer   \n",
       "\n",
       "  neighbourhood_group neighbourhood  latitude  longitude        room_type  \\\n",
       "0            Brooklyn    Kensington  40.64749  -73.97237     Private room   \n",
       "1           Manhattan       Midtown  40.75362  -73.98377  Entire home/apt   \n",
       "\n",
       "   price  minimum_nights  number_of_reviews last_review  reviews_per_month  \\\n",
       "0    149               1                  9  2018-10-19               0.21   \n",
       "1    225               1                 45  2019-05-21               0.38   \n",
       "\n",
       "   calculated_host_listings_count  availability_365  \n",
       "0                               6               365  \n",
       "1                               2               355  "
      ],
      "text/html": [
       "<div>\n",
       "<style scoped>\n",
       "    .dataframe tbody tr th:only-of-type {\n",
       "        vertical-align: middle;\n",
       "    }\n",
       "\n",
       "    .dataframe tbody tr th {\n",
       "        vertical-align: top;\n",
       "    }\n",
       "\n",
       "    .dataframe thead th {\n",
       "        text-align: right;\n",
       "    }\n",
       "</style>\n",
       "<table border=\"1\" class=\"dataframe\">\n",
       "  <thead>\n",
       "    <tr style=\"text-align: right;\">\n",
       "      <th></th>\n",
       "      <th>id</th>\n",
       "      <th>name</th>\n",
       "      <th>host_id</th>\n",
       "      <th>host_name</th>\n",
       "      <th>neighbourhood_group</th>\n",
       "      <th>neighbourhood</th>\n",
       "      <th>latitude</th>\n",
       "      <th>longitude</th>\n",
       "      <th>room_type</th>\n",
       "      <th>price</th>\n",
       "      <th>minimum_nights</th>\n",
       "      <th>number_of_reviews</th>\n",
       "      <th>last_review</th>\n",
       "      <th>reviews_per_month</th>\n",
       "      <th>calculated_host_listings_count</th>\n",
       "      <th>availability_365</th>\n",
       "    </tr>\n",
       "  </thead>\n",
       "  <tbody>\n",
       "    <tr>\n",
       "      <th>0</th>\n",
       "      <td>2539</td>\n",
       "      <td>Clean &amp; quiet apt home by the park</td>\n",
       "      <td>2787</td>\n",
       "      <td>John</td>\n",
       "      <td>Brooklyn</td>\n",
       "      <td>Kensington</td>\n",
       "      <td>40.64749</td>\n",
       "      <td>-73.97237</td>\n",
       "      <td>Private room</td>\n",
       "      <td>149</td>\n",
       "      <td>1</td>\n",
       "      <td>9</td>\n",
       "      <td>2018-10-19</td>\n",
       "      <td>0.21</td>\n",
       "      <td>6</td>\n",
       "      <td>365</td>\n",
       "    </tr>\n",
       "    <tr>\n",
       "      <th>1</th>\n",
       "      <td>2595</td>\n",
       "      <td>Skylit Midtown Castle</td>\n",
       "      <td>2845</td>\n",
       "      <td>Jennifer</td>\n",
       "      <td>Manhattan</td>\n",
       "      <td>Midtown</td>\n",
       "      <td>40.75362</td>\n",
       "      <td>-73.98377</td>\n",
       "      <td>Entire home/apt</td>\n",
       "      <td>225</td>\n",
       "      <td>1</td>\n",
       "      <td>45</td>\n",
       "      <td>2019-05-21</td>\n",
       "      <td>0.38</td>\n",
       "      <td>2</td>\n",
       "      <td>355</td>\n",
       "    </tr>\n",
       "  </tbody>\n",
       "</table>\n",
       "</div>"
      ]
     },
     "metadata": {},
     "execution_count": 6
    }
   ],
   "metadata": {}
  },
  {
   "cell_type": "code",
   "execution_count": 8,
   "source": [
    "data.shape"
   ],
   "outputs": [
    {
     "output_type": "execute_result",
     "data": {
      "text/plain": [
       "(48895, 16)"
      ]
     },
     "metadata": {},
     "execution_count": 8
    }
   ],
   "metadata": {}
  },
  {
   "cell_type": "markdown",
   "source": [
    "### **`Price` column**"
   ],
   "metadata": {}
  },
  {
   "cell_type": "code",
   "execution_count": 9,
   "source": [
    "price = data.price"
   ],
   "outputs": [],
   "metadata": {}
  },
  {
   "cell_type": "code",
   "execution_count": 12,
   "source": [
    "price.describe()"
   ],
   "outputs": [
    {
     "output_type": "execute_result",
     "data": {
      "text/plain": [
       "count    48895.000000\n",
       "mean       152.720687\n",
       "std        240.154170\n",
       "min          0.000000\n",
       "25%         69.000000\n",
       "50%        106.000000\n",
       "75%        175.000000\n",
       "max      10000.000000\n",
       "Name: price, dtype: float64"
      ]
     },
     "metadata": {},
     "execution_count": 12
    }
   ],
   "metadata": {}
  },
  {
   "cell_type": "markdown",
   "source": [
    "## **Features**"
   ],
   "metadata": {}
  },
  {
   "cell_type": "code",
   "execution_count": 13,
   "source": [
    "df = data[['latitude',\n",
    "            'longitude',\n",
    "            'minimum_nights',\n",
    "            'number_of_reviews',\n",
    "            'reviews_per_month',\n",
    "            'calculated_host_listings_count',\n",
    "            'availability_365',\n",
    "            'price'\n",
    "]]"
   ],
   "outputs": [],
   "metadata": {}
  },
  {
   "cell_type": "markdown",
   "source": [
    "## **Question 1**\n",
    "Find a feature with missing values.   \n",
    "How many missing values does it have?"
   ],
   "metadata": {}
  },
  {
   "cell_type": "code",
   "execution_count": 20,
   "source": [
    "df.isnull().sum()"
   ],
   "outputs": [
    {
     "output_type": "execute_result",
     "data": {
      "text/plain": [
       "latitude                              0\n",
       "longitude                             0\n",
       "minimum_nights                        0\n",
       "number_of_reviews                     0\n",
       "reviews_per_month                 10052\n",
       "calculated_host_listings_count        0\n",
       "availability_365                      0\n",
       "price                                 0\n",
       "dtype: int64"
      ]
     },
     "metadata": {},
     "execution_count": 20
    }
   ],
   "metadata": {}
  },
  {
   "cell_type": "code",
   "execution_count": 21,
   "source": [
    "df.isnull().sum().sum()"
   ],
   "outputs": [
    {
     "output_type": "execute_result",
     "data": {
      "text/plain": [
       "10052"
      ]
     },
     "metadata": {},
     "execution_count": 21
    }
   ],
   "metadata": {}
  },
  {
   "cell_type": "markdown",
   "source": [
    "## **Question 2**\n",
    "What's the median (50% percentile) for variable 'minimum_nights'?"
   ],
   "metadata": {}
  },
  {
   "cell_type": "code",
   "execution_count": 31,
   "source": [
    "np.median(df.minimum_nights)"
   ],
   "outputs": [
    {
     "output_type": "execute_result",
     "data": {
      "text/plain": [
       "3.0"
      ]
     },
     "metadata": {},
     "execution_count": 31
    }
   ],
   "metadata": {}
  },
  {
   "cell_type": "code",
   "execution_count": 33,
   "source": [
    "df.minimum_nights.describe()"
   ],
   "outputs": [
    {
     "output_type": "execute_result",
     "data": {
      "text/plain": [
       "count    48895.000000\n",
       "mean         7.029962\n",
       "std         20.510550\n",
       "min          1.000000\n",
       "25%          1.000000\n",
       "50%          3.000000\n",
       "75%          5.000000\n",
       "max       1250.000000\n",
       "Name: minimum_nights, dtype: float64"
      ]
     },
     "metadata": {},
     "execution_count": 33
    }
   ],
   "metadata": {}
  },
  {
   "cell_type": "markdown",
   "source": [
    "## **Split the data**\n",
    "\n",
    "* Shuffle the initial dataset, use seed `42`.\n",
    "* Split your data in train/val/test sets, with 60%/20%/20% distribution.\n",
    "* Make sure that the target value ('price') is not in your dataframe.\n",
    "* Apply the log transformation to the price variable using the `np.log1p()` function."
   ],
   "metadata": {}
  },
  {
   "cell_type": "code",
   "execution_count": 34,
   "source": [
    "# Shuffle the initial dataset, use seed `42`\n",
    "n= len(df)\n",
    "idx = np.arange(n)\n",
    "np.random.seed(42)\n",
    "np.random.shuffle(idx)\n",
    "\n",
    "# Split your data in train/val/test sets, with 60%/20%/20% distribution\n",
    "n = len(df)\n",
    "n_val = int(n * 0.2)\n",
    "n_test = int(n * 0.2)\n",
    "n_train = n - n_val - n_test\n",
    "\n",
    "df_train = df.iloc[idx[:n_train]]\n",
    "df_val = df.iloc[idx[n_train:n_train + n_val]]\n",
    "df_test = df.iloc[idx[n_train + n_val:]]\n",
    "\n",
    "# Reset indexes\n",
    "df_train = df_train.reset_index(drop = True)\n",
    "df_val = df_val.reset_index(drop = True)\n",
    "df_test = df_test.reset_index(drop = True)\n",
    "\n",
    "# Apply the log transformation to the price variable using the `np.log1p()` function\n",
    "y_train = np.log1p(df_train['price'].values)\n",
    "y_val = np.log1p(df_val['price'].values)\n",
    "y_test = np.log1p(df_test['price'].values)\n",
    "\n",
    "# Make sure that the target value ('price') is not in your dataframe\n",
    "df_train.drop('price', axis=1, inplace=True)\n",
    "df_val.drop('price', axis=1, inplace=True)\n",
    "df_test.drop('price', axis=1, inplace=True)"
   ],
   "outputs": [],
   "metadata": {}
  },
  {
   "cell_type": "code",
   "execution_count": 41,
   "source": [
    "# Check\n",
    "print(f\"df_shape: {df.shape[0]}\")\n",
    "\n",
    "print(f\"Check_shape: {df_train.shape[0] + df_test.shape[0] + df_val.shape[0]}\")"
   ],
   "outputs": [
    {
     "output_type": "stream",
     "name": "stdout",
     "text": [
      "df_shape: 48895\n",
      "Check_shape: 48895\n"
     ]
    }
   ],
   "metadata": {}
  },
  {
   "cell_type": "markdown",
   "source": [
    "## **Question 3**\n",
    "\n",
    "* We need to deal with missing values for the column from Q1.\n",
    "* We have two options: fill it with 0 or with the mean of this variable.\n",
    "* Try both options. For each, train a linear regression model without regularization using the code from the lessons.\n",
    "* For computing the mean, use the training only!\n",
    "* Use the validation dataset to evaluate the models and compare the RMSE of each option.\n",
    "* Round the RMSE scores to 2 decimal digits using `round(score, 2)`\n",
    "* Which option gives better RMSE?\n"
   ],
   "metadata": {}
  },
  {
   "cell_type": "code",
   "execution_count": 42,
   "source": [
    "# Imputing Missing values with 0\n",
    "def imputing_0(df):\n",
    "    df = df.fillna(0)\n",
    "    X = df.values\n",
    "    return X\n",
    "\n",
    "\"\"\"Imputing Missing values with Mean\"\"\"\n",
    "def imputing_mean(df):\n",
    "    df = df.fillna(0)\n",
    "    X = df.values\n",
    "    return X"
   ],
   "outputs": [],
   "metadata": {}
  },
  {
   "cell_type": "code",
   "execution_count": 43,
   "source": [
    "# Linear regression model without regularization\n",
    "def linear_regression_reg(X,y,r = 0.01):\n",
    "    \n",
    "    # biased term\n",
    "    ones = np.ones(X.shape[0])\n",
    "    X = np.column_stack([ones, X])\n",
    "    \n",
    "    # Gram Matrix\n",
    "    XTX = X.T.dot(X)\n",
    "    \n",
    "    # Regularization\n",
    "    XTX = XTX + r * np.eye(XTX.shape[0])\n",
    "    \n",
    "    # inverse Gram Matrix\n",
    "    XTX_inv = np.linalg.inv(XTX)\n",
    "    w_full = XTX_inv.dot(X.T).dot(y)\n",
    "    \n",
    "    return w_full[0], w_full[1:] \n",
    "\n",
    "def rmse(y, y_pred):\n",
    "    error = y - y_pred\n",
    "    squared = error ** 2\n",
    "    mean_squared = squared.mean()\n",
    "    return np.sqrt(mean_squared)"
   ],
   "outputs": [],
   "metadata": {}
  },
  {
   "cell_type": "code",
   "execution_count": 51,
   "source": [
    "# Model and Prediction : missing value imputation using 0\n",
    "X_train = imputing_0(df_train)\n",
    "\n",
    "w0,w = linear_regression_reg(X_train,y_train,r = 0)\n",
    "\n",
    "# Predict / train\n",
    "y_pred_train = w0 + X_train.dot(w)\n",
    "\n",
    "# Predict / val\n",
    "X_val = imputing_0(df_val)\n",
    "y_pred_val = w0 + X_val.dot(w)\n",
    "\n",
    "# rmse\n",
    "print(f\"RMSE_train | missing value imputation using 0: {rmse(y_train, y_pred_train):.2f}\")\n",
    "print(f\"RMSE_valid | missing value imputation using 0: {rmse(y_val, y_pred_val):.2f}\")"
   ],
   "outputs": [
    {
     "output_type": "stream",
     "name": "stdout",
     "text": [
      "RMSE_train | missing value imputation using 0: 0.64\n",
      "RMSE_valid | missing value imputation using 0: 0.64\n"
     ]
    }
   ],
   "metadata": {}
  },
  {
   "cell_type": "code",
   "execution_count": 50,
   "source": [
    "# Model and Prediction : missing value imputation using mean\n",
    "X_train = imputing_mean(df_train)\n",
    "\n",
    "w0,w = linear_regression_reg(X_train,y_train, r = 0)\n",
    "\n",
    "# Predict / train\n",
    "y_pred_train = w0 + X_train.dot(w)\n",
    "\n",
    "# Predict / val\n",
    "X_val = imputing_mean(df_val)\n",
    "y_pred_val = w0 + X_val.dot(w)\n",
    "\n",
    "# rmse\n",
    "print(f\"RMSE_train | missing value imputation using mean: {rmse(y_train, y_pred_train):.2f}\")\n",
    "print(f\"RMSE_valid | missing value imputation using mean: {rmse(y_val, y_pred_val):.2f}\")"
   ],
   "outputs": [
    {
     "output_type": "stream",
     "name": "stdout",
     "text": [
      "RMSE_train | missing value imputation using mean: 0.64\n",
      "RMSE_valid | missing value imputation using mean: 0.64\n"
     ]
    }
   ],
   "metadata": {}
  },
  {
   "cell_type": "markdown",
   "source": [
    "## **Question 4**\n",
    "\n",
    "* Now let's train a regularized linear regression.\n",
    "* For this question, fill the NAs with 0. \n",
    "* Try different values of `r` from this list: `[0, 0.000001, 0.0001, 0.001, 0.01, 0.1, 1, 5, 10]`.\n",
    "* Use RMSE to evaluate the model on the validation dataset.\n",
    "* Round the RMSE scores to 2 decimal digits.\n",
    "* Which `r` gives the best RMSE?\n",
    "\n",
    "If there are multiple options, select the smallest `r`."
   ],
   "metadata": {}
  },
  {
   "cell_type": "code",
   "execution_count": 49,
   "source": [
    "for r in [0, 0.000001, 0.0001, 0.001, 0.01, 0.1, 1, 5, 10]:\n",
    "    w0,w = linear_regression_reg(X_train,y_train,r)\n",
    "\n",
    "\n",
    "    # Predicting on Validation set\n",
    "    X_val = imputing_0(df_val)\n",
    "    y_pred = w0 + X_val.dot(w)\n",
    "    score =  (rmse(y_val, y_pred))\n",
    "\n",
    "    # rmse\n",
    "    print(f\"r: {r}, w: {w0}, score: {score:.2f}\")"
   ],
   "outputs": [
    {
     "output_type": "stream",
     "name": "stdout",
     "text": [
      "r: 0, w: -419.91265872941676, score: 0.64\n",
      "r: 1e-06, w: -419.86271567365674, score: 0.64\n",
      "r: 0.0001, w: -414.97649243207684, score: 0.64\n",
      "r: 0.001, w: -375.27365270305717, score: 0.64\n",
      "r: 0.01, w: -191.783840532472, score: 0.66\n",
      "r: 0.1, w: -32.562560552266376, score: 0.68\n",
      "r: 1, w: -3.49921683772921, score: 0.68\n",
      "r: 5, w: -0.7033623160382074, score: 0.68\n",
      "r: 10, w: -0.35127675916757595, score: 0.68\n"
     ]
    }
   ],
   "metadata": {}
  },
  {
   "cell_type": "markdown",
   "source": [
    "## **Question 5**\n",
    "\n",
    "* We used seed 42 for splitting the data. Let's find out how selecting the seed influences our score.\n",
    "* Try different seed values: `[0, 1, 2, 3, 4, 5, 6, 7, 8, 9]`.\n",
    "* For each seed, do the train/validation/test split with 60%/20%/20% distribution.\n",
    "* Fill the missing values with 0 and train a model without regularization.\n",
    "* For each seed, evaluate the model on the validation dataset and collect the RMSE scores. \n",
    "* What's the standard deviation of all the scores? To compute the standard deviation, use `np.std`.\n",
    "* Round the result to 3 decimal digits (`round(std, 3)`)   \n",
    "\n",
    "\n",
    "> Note: Standard deviation shows how different the values are.\n",
    "> If it's low, then all values are approximately the same.\n",
    "> If it's high, the values are different. \n",
    "> If standard deviation of scores is low, then our model is *stable*."
   ],
   "metadata": {}
  },
  {
   "cell_type": "code",
   "execution_count": 52,
   "source": [
    "features = ['latitude',\n",
    "            'longitude',\n",
    "            'minimum_nights',\n",
    "            'number_of_reviews',\n",
    "            'reviews_per_month',\n",
    "            'calculated_host_listings_count',\n",
    "            'availability_365',\n",
    "            'price']\n",
    "\n",
    "def train_test_split(df,test_split = 0.2, val_split = 0.2, random_seed = 42):\n",
    "\n",
    "    n = len(df)\n",
    "    idx = np.arange(n)\n",
    "    np.random.seed = random_seed\n",
    "    np.random.shuffle(idx)\n",
    "\n",
    "    n = len(df)\n",
    "    n_val = int(n * val_split)\n",
    "    n_test = int(n * test_split)\n",
    "    n_train = n - n_val - n_test\n",
    "\n",
    "    df_train = df.iloc[idx[:n_train]]\n",
    "    df_val = df.iloc[idx[n_train:n_train + n_val]] \n",
    "    df_test = df.iloc[idx[n_train+n_val:]]\n",
    "\n",
    "    df_train = df_train.reset_index(drop = True)\n",
    "    df_val = df_val.reset_index(drop = True)\n",
    "    df_test = df_test.reset_index(drop = True)\n",
    "\n",
    "    y_train = np.log1p(df_train['price'].values)\n",
    "    y_val = np.log1p(df_val['price'].values)\n",
    "    y_test = np.log1p(df_test['price'].values)\n",
    "\n",
    "    df_train.drop('price', axis=1, inplace=True)\n",
    "    df_val.drop('price', axis=1, inplace=True)\n",
    "    df_test.drop('price', axis=1, inplace=True)\n",
    "    \n",
    "    return df_train, df_val, df_test, y_train, y_val, y_test\n",
    "\n",
    "df_train, df_val, df_test, y_train, y_val, y_test= train_test_split(df[features])"
   ],
   "outputs": [],
   "metadata": {}
  },
  {
   "cell_type": "code",
   "execution_count": 57,
   "source": [
    "score = []\n",
    "for s in [0, 1, 2, 3, 4, 5, 6, 7, 8, 9]:\n",
    "    df_train, df_val, df_test, y_train, y_val, y_test= train_test_split(df[features], random_seed = s)\n",
    "    \n",
    "    # Model and Prediction |  missing value imputation using 0\"\n",
    "    X_train = imputing_0(df_train)\n",
    "\n",
    "    w0,w = linear_regression_reg(X_train,y_train,r=0)\n",
    "\n",
    "    # Predicting on Validation set\n",
    "    X_val = imputing_0(df_val)\n",
    "    y_pred = w0 + X_val.dot(w)\n",
    "    \n",
    "    # RMSE Scores\n",
    "    score.append(rmse(y_val, y_pred).round(2))\n",
    "    print(f\"seed: {s}, w0: {w0}, score: {score}\")\n",
    "\n",
    "print(f\"STD - scores: {np.std(score):.3f}\")"
   ],
   "outputs": [
    {
     "output_type": "stream",
     "name": "stdout",
     "text": [
      "seed: 0, w0: -435.00359486219253, score: [0.64]\n",
      "seed: 1, w0: -418.20048889715684, score: [0.64, 0.64]\n",
      "seed: 2, w0: -418.79893520508693, score: [0.64, 0.64, 0.65]\n",
      "seed: 3, w0: -415.2825734255888, score: [0.64, 0.64, 0.65, 0.64]\n",
      "seed: 4, w0: -413.5666689892554, score: [0.64, 0.64, 0.65, 0.64, 0.66]\n",
      "seed: 5, w0: -425.4217424699481, score: [0.64, 0.64, 0.65, 0.64, 0.66, 0.65]\n",
      "seed: 6, w0: -425.6221976254481, score: [0.64, 0.64, 0.65, 0.64, 0.66, 0.65, 0.64]\n",
      "seed: 7, w0: -423.1139161623612, score: [0.64, 0.64, 0.65, 0.64, 0.66, 0.65, 0.64, 0.63]\n",
      "seed: 8, w0: -427.9800170025963, score: [0.64, 0.64, 0.65, 0.64, 0.66, 0.65, 0.64, 0.63, 0.64]\n",
      "seed: 9, w0: -432.04981113061024, score: [0.64, 0.64, 0.65, 0.64, 0.66, 0.65, 0.64, 0.63, 0.64, 0.64]\n",
      "STD - scores: 0.008\n"
     ]
    }
   ],
   "metadata": {}
  },
  {
   "cell_type": "markdown",
   "source": [
    "## **Question 6**\n",
    "\n",
    "* Split the dataset like previously, use seed 9.\n",
    "* Combine train and validation datasets.\n",
    "* Fill the missing values with 0 and train a model with `r=0.001`. \n",
    "* What's the RMSE on the test dataset?"
   ],
   "metadata": {}
  },
  {
   "cell_type": "code",
   "execution_count": 58,
   "source": [
    "df_train, df_val, df_test, y_train, y_val, y_test= train_test_split(df[features], random_seed = 9)\n",
    "\n",
    "# Combine train and validation datasets\n",
    "df_train_full = pd.concat([df_train, df_val])\n",
    "df_train_full = df_train_full.reset_index(drop = True)\n",
    "\n",
    "# Fill the missing values with 0 and train a model with `r=0.001`\n",
    "X_train_full = imputing_0(df_train_full)\n",
    "y_full_train = np.concatenate([y_train, y_val])\n",
    "\n",
    "w0,w = linear_regression_reg(X_train,y_train, r = 0.001)\n",
    "\n",
    "# Predict / test\n",
    "X_test = imputing_0(df_test)\n",
    "y_pred = w0 + X_test.dot(w)\n",
    "\n",
    "#     RMSE Scores\n",
    "score =rmse(y_test, y_pred)\n",
    "print(f\"seed: {s}, w0: {w0}, score: {score}\")"
   ],
   "outputs": [
    {
     "output_type": "stream",
     "name": "stdout",
     "text": [
      "seed: 9, w0: 13.466070934018283, score: 0.6974260793874817\n"
     ]
    }
   ],
   "metadata": {}
  },
  {
   "cell_type": "code",
   "execution_count": null,
   "source": [],
   "outputs": [],
   "metadata": {}
  }
 ],
 "metadata": {
  "orig_nbformat": 4,
  "language_info": {
   "name": "python",
   "version": "3.7.3",
   "mimetype": "text/x-python",
   "codemirror_mode": {
    "name": "ipython",
    "version": 3
   },
   "pygments_lexer": "ipython3",
   "nbconvert_exporter": "python",
   "file_extension": ".py"
  },
  "kernelspec": {
   "name": "python3",
   "display_name": "Python 3.7.3 64-bit"
  },
  "interpreter": {
   "hash": "31f2aee4e71d21fbe5cf8b01ff0e069b9275f58929596ceb00d14d90e3e16cd6"
  }
 },
 "nbformat": 4,
 "nbformat_minor": 2
}