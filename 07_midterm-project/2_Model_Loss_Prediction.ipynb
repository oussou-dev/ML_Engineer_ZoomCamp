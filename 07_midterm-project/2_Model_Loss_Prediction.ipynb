{
 "cells": [
  {
   "cell_type": "markdown",
   "source": [
    "# **Predict output of new observations**"
   ],
   "metadata": {}
  },
  {
   "cell_type": "code",
   "execution_count": 1,
   "source": [
    "import pandas as pd\n",
    "import pickle\n",
    "import numpy as np"
   ],
   "outputs": [],
   "metadata": {}
  },
  {
   "cell_type": "code",
   "execution_count": null,
   "source": [
    "test_data = pd.read_csv(\"data/test_data_subset.csv\")"
   ],
   "outputs": [],
   "metadata": {}
  },
  {
   "cell_type": "code",
   "execution_count": null,
   "source": [
    "# load the columns to drop file\n",
    "columns_to_drop=pd.read_csv(\"columns_to_drop.csv\")\n",
    "columns_to_Retain = set(test_data.columns.values) - set(columns_to_drop.colnames.values)\n",
    "test_data = test_data[columns_to_Retain]\n",
    "\n",
    "column_datatypes = test_data.dtypes\n",
    "categorical_columns = list(column_datatypes[column_datatypes==\"object\"].index.values)"
   ],
   "outputs": [],
   "metadata": {}
  },
  {
   "cell_type": "code",
   "execution_count": null,
   "source": [
    "# transform the categorical columns by loading the fit encodings on training data\n",
    "\n",
    "for cf1 in categorical_columns:\n",
    "    filename = cf1+\".sav\"\n",
    "    le = pickle.load(open(filename, 'rb'))\n",
    "    \n",
    "    # if an new classes is observed, set it to the 0 class\n",
    "    le_dict = dict(zip(le.classes_, le.transform(le.classes_)))\n",
    "    test_data[cf1]=test_data[cf1].apply(lambda x: le_dict.get(x, -1))"
   ],
   "outputs": [],
   "metadata": {}
  },
  {
   "cell_type": "code",
   "execution_count": null,
   "source": [
    "test_data_id = test_data['id']\n",
    "test_data = test_data.drop('id',axis=1)"
   ],
   "outputs": [],
   "metadata": {}
  },
  {
   "cell_type": "code",
   "execution_count": null,
   "source": [
    "Column_datatypes= test_data.dtypes\n",
    "Integer_columns = list(Column_datatypes.where(lambda x: x ==\"int64\").dropna().index.values)\n",
    "# convert the int64 columns categorical\n",
    "test_data[Integer_columns] = test_data[Integer_columns].astype('category',copy=False)"
   ],
   "outputs": [],
   "metadata": {}
  },
  {
   "cell_type": "code",
   "execution_count": null,
   "source": [
    "# load the saved model and predict on the test data\n",
    "tunedmodel_rf = pickle.load(open(\"tunedmodel_rf\", 'rb'))"
   ],
   "outputs": [],
   "metadata": {}
  },
  {
   "cell_type": "code",
   "execution_count": null,
   "source": [
    "Y_test_predict = tunedmodel_rf.predict(test_data)\n",
    "test_data['predict_loss']=Y_test_predict\n",
    "test_data['id']=test_data_id\n",
    "test_data = test_data[['id','predict_loss']]"
   ],
   "outputs": [],
   "metadata": {}
  },
  {
   "cell_type": "code",
   "execution_count": null,
   "source": [
    "test_data"
   ],
   "outputs": [],
   "metadata": {}
  },
  {
   "cell_type": "code",
   "execution_count": null,
   "source": [],
   "outputs": [],
   "metadata": {}
  },
  {
   "cell_type": "code",
   "execution_count": null,
   "source": [],
   "outputs": [],
   "metadata": {}
  },
  {
   "cell_type": "code",
   "execution_count": null,
   "source": [],
   "outputs": [],
   "metadata": {}
  },
  {
   "cell_type": "code",
   "execution_count": null,
   "source": [],
   "outputs": [],
   "metadata": {}
  }
 ],
 "metadata": {
  "orig_nbformat": 4,
  "language_info": {
   "name": "python",
   "version": "3.7.3",
   "mimetype": "text/x-python",
   "codemirror_mode": {
    "name": "ipython",
    "version": 3
   },
   "pygments_lexer": "ipython3",
   "nbconvert_exporter": "python",
   "file_extension": ".py"
  },
  "kernelspec": {
   "name": "python3",
   "display_name": "Python 3.7.3 64-bit"
  },
  "interpreter": {
   "hash": "31f2aee4e71d21fbe5cf8b01ff0e069b9275f58929596ceb00d14d90e3e16cd6"
  }
 },
 "nbformat": 4,
 "nbformat_minor": 2
}