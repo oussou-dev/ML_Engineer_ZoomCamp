{
  "nbformat": 4,
  "nbformat_minor": 0,
  "metadata": {
    "orig_nbformat": 4,
    "language_info": {
      "name": "python",
      "version": "3.7.3",
      "mimetype": "text/x-python",
      "codemirror_mode": {
        "name": "ipython",
        "version": 3
      },
      "pygments_lexer": "ipython3",
      "nbconvert_exporter": "python",
      "file_extension": ".py"
    },
    "kernelspec": {
      "name": "python3",
      "display_name": "Python 3.7.3 64-bit"
    },
    "interpreter": {
      "hash": "31f2aee4e71d21fbe5cf8b01ff0e069b9275f58929596ceb00d14d90e3e16cd6"
    },
    "colab": {
      "name": "MLE_ZoomCamp_s8_homework.ipynb",
      "provenance": [],
      "collapsed_sections": []
    }
  },
  "cells": [
    {
      "cell_type": "markdown",
      "metadata": {
        "id": "ox6-mcjFEiWr"
      },
      "source": [
        "## **Homework - Session 8**"
      ]
    },
    {
      "cell_type": "markdown",
      "metadata": {
        "id": "911IqxG3EiWw"
      },
      "source": [
        "## **Dataset**"
      ]
    },
    {
      "cell_type": "code",
      "metadata": {
        "id": "n58vY3FgEiWy"
      },
      "source": [
        "# !wget https://github.com/alexeygrigorev/large-datasets/releases/download/dogs-cats/train.zip"
      ],
      "execution_count": 2,
      "outputs": []
    },
    {
      "cell_type": "markdown",
      "metadata": {
        "id": "ootXlTtwEiW0"
      },
      "source": [
        "## **Data preparation**\n",
        "\n",
        "The dataset contains 12,500 images of cats and 12,500 images of dogs. \n",
        "\n",
        "Now we need to split this data into train and validation\n",
        "\n",
        "* Create a `train` and `validation` folders\n",
        "* In each folder, create `cats` and `dogs` folders\n",
        "* Move the first 10,000 images to the train folder (from 0 to 9999) for boths cats and dogs - and put them in respective folders\n",
        "* Move the remaining 2,500 images to the validation folder (from 10000 to 12499)\n",
        "\n",
        "You can do this manually or with Python (check `os` and `shutil` packages)."
      ]
    },
    {
      "cell_type": "code",
      "metadata": {
        "id": "QPRLTGHSEiW2"
      },
      "source": [
        "# unzip train.zip\n",
        "!unzip -q '/content/train.zip'"
      ],
      "execution_count": 5,
      "outputs": []
    },
    {
      "cell_type": "code",
      "metadata": {
        "id": "VEPGfiKlEiW4"
      },
      "source": [
        "# create folders\n",
        "!mkdir val\n",
        "!mkdir train/dogs val/dogs train/cats val/cats"
      ],
      "execution_count": 12,
      "outputs": []
    },
    {
      "cell_type": "code",
      "metadata": {
        "colab": {
          "base_uri": "https://localhost:8080/"
        },
        "id": "CxaEugrXFayy",
        "outputId": "bc1d4a28-2f58-4b20-c793-5d118f47925d"
      },
      "source": [
        "!ls"
      ],
      "execution_count": 9,
      "outputs": [
        {
          "output_type": "stream",
          "name": "stdout",
          "text": [
            "sample_data  train  train.zip\n"
          ]
        }
      ]
    },
    {
      "cell_type": "code",
      "metadata": {
        "id": "3-ZOSYIuEiW4"
      },
      "source": [
        "# move images\n",
        "import os\n",
        "\n",
        "for i in range(0, 10000):\n",
        "    os.rename(f'train/dog.{i}.jpg', f'train/dogs/dog.{i}.jpg')\n",
        "    os.rename(f'train/cat.{i}.jpg', f'train/cats/cat.{i}.jpg')\n",
        "\n",
        "for i in range(10000, 12500):\n",
        "    os.rename(f'train/dog.{i}.jpg', f'val/dogs/dog.{i}.jpg')\n",
        "    os.rename(f'train/cat.{i}.jpg', f'val/cats/cat.{i}.jpg')"
      ],
      "execution_count": 13,
      "outputs": []
    },
    {
      "cell_type": "markdown",
      "metadata": {
        "id": "Ua-bFwACEiW6"
      },
      "source": [
        "## **Model**\n",
        "\n",
        "For this homework we will use Convolutional Neural Network (CNN. Like in the lectures, we'll use Keras.\n",
        "\n",
        "You need to develop the model with following structure:\n",
        "\n",
        "* The shape for input should be `(150, 150, 3)`\n",
        "* Next, create a covolutional layer ([`Conv2D`](https://keras.io/api/layers/convolution_layers/convolution2d/)):\n",
        "    * Use 32 filters\n",
        "    * Kernel size should be `(3, 3)` (that's the size of the filter)\n",
        "    * Use `'relu'` as activation \n",
        "* Reduce the size of the feature map with max pooling ([`MaxPooling2D`](https://keras.io/api/layers/pooling_layers/max_pooling2d/))\n",
        "    * Set the pooling size to `(2, 2)`\n",
        "* Turn the multi-dimensional result into vectors using a [`Flatten`](https://keras.io/api/layers/reshaping_layers/flatten/) layer\n",
        "* Next, add a `Dense` layer with 64 neurons and `'relu'` activation\n",
        "* Finally, create the `Dense` layer with 1 neuron - this will be the output\n",
        "    * The output layer should have an activation - use the appropriate activation for the binary classification case\n",
        "\n",
        "As optimizer use [`SGD`](https://keras.io/api/optimizers/sgd/) with the following parameters:\n",
        "\n",
        "* `SGD(lr=0.002, momentum=0.8)`\n",
        "\n",
        "\n",
        "For clarification about kernel size and max pooling, check [Week #11 Office Hours](https://www.youtube.com/watch?v=1WRgdBTUaAc)."
      ]
    },
    {
      "cell_type": "markdown",
      "metadata": {
        "id": "7Op7wahSEiW7"
      },
      "source": [
        "### **Libs**"
      ]
    },
    {
      "cell_type": "code",
      "metadata": {
        "id": "dKFJ1PRkEiW9"
      },
      "source": [
        "# !pip3 install numpy matplotlib"
      ],
      "execution_count": 15,
      "outputs": []
    },
    {
      "cell_type": "code",
      "metadata": {
        "id": "v5ACwjR8EiW9"
      },
      "source": [
        "# !pip3 install --upgrade tensorflow"
      ],
      "execution_count": 17,
      "outputs": []
    },
    {
      "cell_type": "code",
      "metadata": {
        "id": "v2zc0Qo-EiW9"
      },
      "source": [
        "# check install\n",
        "# !python -c \"import tensorflow as tf;print(tf.reduce_sum(tf.random.normal([1000, 1000])))\""
      ],
      "execution_count": 19,
      "outputs": []
    },
    {
      "cell_type": "code",
      "metadata": {
        "id": "RVEPodZjEiW-"
      },
      "source": [
        "import numpy as np\n",
        "import matplotlib.pyplot as plt\n",
        "import tensorflow as tf\n",
        "from tensorflow import keras\n",
        "from tensorflow.keras.preprocessing.image import ImageDataGenerator, load_img\n",
        "from tensorflow.keras.optimizers import SGD, Adam\n",
        "from keras.layers import Conv2D\n",
        "from keras.layers import MaxPooling2D\n",
        "from keras.layers import Dense\n",
        "from keras.layers import Flatten"
      ],
      "execution_count": 20,
      "outputs": []
    },
    {
      "cell_type": "code",
      "metadata": {
        "id": "EH7ZfVZBEiW_"
      },
      "source": [
        "def define_model():\n",
        "    # Model\n",
        "    inputs = keras.Input(shape=(150, 150, 3))\n",
        "    conv = keras.layers.Conv2D(32, 3, activation='relu')(inputs)\n",
        "    pool = keras.layers.MaxPooling2D(pool_size=(2,2))(conv)\n",
        "    vector = keras.layers.Flatten()(pool)\n",
        "    dense = keras.layers.Dense(64, activation='relu')(vector)\n",
        "    output = keras.layers.Dense(1, activation='sigmoid')(dense)\n",
        "    model = keras.Model(inputs, output)\n",
        "\n",
        "    # Optimizer=> single output problem => BinaryCrossentropy \n",
        "    optimizer = keras.optimizers.SGD(learning_rate=0.002, momentum=0.8)\n",
        "    loss = keras.losses.BinaryCrossentropy(from_logits=False)\n",
        "\n",
        "    # Model compiling\n",
        "    model.compile(optimizer=optimizer, loss=loss, metrics=['accuracy'])\n",
        "    \n",
        "    return model"
      ],
      "execution_count": 22,
      "outputs": []
    },
    {
      "cell_type": "markdown",
      "metadata": {
        "id": "xRwhfhixGYMI"
      },
      "source": [
        "## **Question 1**\n",
        "\n",
        "Since we have a binary classification problem, what is the best loss function for us?\n",
        "\n",
        "Note: since we specify an activation for the output layer, we don't need to set `from_logits=True`\n"
      ]
    },
    {
      "cell_type": "markdown",
      "metadata": {
        "id": "EzKaPM22GdLu"
      },
      "source": [
        "> for binary classification problem, the better choice is **`BinaryCrossentropy`**"
      ]
    },
    {
      "cell_type": "markdown",
      "metadata": {
        "id": "hH7_uYVrHAPm"
      },
      "source": [
        "## **Question 2**\n",
        "\n",
        "What's the total number of parameters of the model? You can use the `summary` method for that. "
      ]
    },
    {
      "cell_type": "code",
      "metadata": {
        "colab": {
          "base_uri": "https://localhost:8080/"
        },
        "id": "7t0hoC8SHDDy",
        "outputId": "f58cccaf-bd0f-417f-e977-0da34191a998"
      },
      "source": [
        "model = define_model()\n",
        "model.summary()"
      ],
      "execution_count": 23,
      "outputs": [
        {
          "output_type": "stream",
          "name": "stdout",
          "text": [
            "Model: \"model\"\n",
            "_________________________________________________________________\n",
            " Layer (type)                Output Shape              Param #   \n",
            "=================================================================\n",
            " input_1 (InputLayer)        [(None, 150, 150, 3)]     0         \n",
            "                                                                 \n",
            " conv2d (Conv2D)             (None, 148, 148, 32)      896       \n",
            "                                                                 \n",
            " max_pooling2d (MaxPooling2D  (None, 74, 74, 32)       0         \n",
            " )                                                               \n",
            "                                                                 \n",
            " flatten (Flatten)           (None, 175232)            0         \n",
            "                                                                 \n",
            " dense (Dense)               (None, 64)                11214912  \n",
            "                                                                 \n",
            " dense_1 (Dense)             (None, 1)                 65        \n",
            "                                                                 \n",
            "=================================================================\n",
            "Total params: 11,215,873\n",
            "Trainable params: 11,215,873\n",
            "Non-trainable params: 0\n",
            "_________________________________________________________________\n"
          ]
        }
      ]
    },
    {
      "cell_type": "markdown",
      "metadata": {
        "id": "SaRIjxe6JQ6J"
      },
      "source": [
        "**_answer_**\n",
        "> **`11,215,873`**"
      ]
    },
    {
      "cell_type": "markdown",
      "metadata": {
        "id": "fA6ruMdHIbVV"
      },
      "source": [
        "## **Generators and Training**\n",
        "\n",
        "For the next two questions, use the following data generator for both train and validation:\n",
        "\n",
        "```python\n",
        "ImageDataGenerator(rescale=1./255)\n",
        "```\n",
        "\n",
        "* We don't need to do any additional pre-processing for the images.\n",
        "* When reading the data from train/val directories, check the `class_mode` parameter. Which value should it be for a binary classification problem?\n",
        "* Use `batch_size=20`\n",
        "* Use `shuffle=True` for both training and validaition \n",
        "\n",
        "For training use `.fit()` with the following params:\n",
        "\n",
        "```python\n",
        "model.fit(\n",
        "    train_generator,\n",
        "    steps_per_epoch=100,\n",
        "    epochs=10,\n",
        "    validation_data=validation_generator,\n",
        "    validation_steps=50\n",
        ")\n",
        "```\n",
        "\n",
        "Note `validation_steps=50` - this parameter says \"run only 50 steps on the validation data for evaluating the results\". \n",
        "This way we iterate a bit faster, but don't use the entire validation dataset.\n",
        "That's why it's important to shuffle the validation dataset as well. "
      ]
    },
    {
      "cell_type": "markdown",
      "metadata": {
        "id": "gxVfHgfEIkc6"
      },
      "source": [
        "## **Question 3**\n",
        "\n",
        "What is the median of training accuracy for this model?"
      ]
    },
    {
      "cell_type": "code",
      "metadata": {
        "colab": {
          "base_uri": "https://localhost:8080/"
        },
        "id": "kbhpai45Impo",
        "outputId": "69060434-38c0-48fe-a3c1-b3411c8b5bbc"
      },
      "source": [
        "train_gen = ImageDataGenerator(rescale = 1./255)\n",
        "train_generator = train_gen.flow_from_directory(\n",
        "    '/content/train/',\n",
        "    target_size=(150, 150),\n",
        "    classes= ['dogs', 'cats'],\n",
        "    class_mode= 'binary',\n",
        "    batch_size=20\n",
        ")"
      ],
      "execution_count": 24,
      "outputs": [
        {
          "output_type": "stream",
          "name": "stdout",
          "text": [
            "Found 20000 images belonging to 2 classes.\n"
          ]
        }
      ]
    },
    {
      "cell_type": "code",
      "metadata": {
        "colab": {
          "base_uri": "https://localhost:8080/"
        },
        "id": "j_Rs3puGImsF",
        "outputId": "1cd49c0e-f34f-4f59-afa8-6ed8be826902"
      },
      "source": [
        "val_gen = ImageDataGenerator(rescale = 1./255)\n",
        "validation_generator = val_gen.flow_from_directory(\n",
        "    '/content/val/',\n",
        "    target_size=(150, 150),\n",
        "    classes= ['dogs', 'cats'],\n",
        "    class_mode= 'binary',\n",
        "    batch_size=20\n",
        ")"
      ],
      "execution_count": 26,
      "outputs": [
        {
          "output_type": "stream",
          "name": "stdout",
          "text": [
            "Found 5000 images belonging to 2 classes.\n"
          ]
        }
      ]
    },
    {
      "cell_type": "code",
      "metadata": {
        "colab": {
          "base_uri": "https://localhost:8080/"
        },
        "id": "sGe8qIfAJtxI",
        "outputId": "bfbbe3c6-f3cf-49cc-9476-16e935232c2e"
      },
      "source": [
        "history = model.fit(\n",
        "    train_generator,\n",
        "    steps_per_epoch=100,\n",
        "    epochs=10,\n",
        "    validation_data=validation_generator,\n",
        "    validation_steps=50\n",
        ")"
      ],
      "execution_count": 27,
      "outputs": [
        {
          "output_type": "stream",
          "name": "stdout",
          "text": [
            "Epoch 1/10\n",
            "100/100 [==============================] - 42s 414ms/step - loss: 0.6934 - accuracy: 0.5335 - val_loss: 0.6820 - val_accuracy: 0.5740\n",
            "Epoch 2/10\n",
            "100/100 [==============================] - 39s 390ms/step - loss: 0.6822 - accuracy: 0.5685 - val_loss: 0.6703 - val_accuracy: 0.5980\n",
            "Epoch 3/10\n",
            "100/100 [==============================] - 39s 388ms/step - loss: 0.6684 - accuracy: 0.6155 - val_loss: 0.6647 - val_accuracy: 0.5640\n",
            "Epoch 4/10\n",
            "100/100 [==============================] - 38s 385ms/step - loss: 0.6676 - accuracy: 0.5900 - val_loss: 0.6656 - val_accuracy: 0.5760\n",
            "Epoch 5/10\n",
            "100/100 [==============================] - 39s 386ms/step - loss: 0.6630 - accuracy: 0.5950 - val_loss: 0.6511 - val_accuracy: 0.6120\n",
            "Epoch 6/10\n",
            "100/100 [==============================] - 38s 384ms/step - loss: 0.6625 - accuracy: 0.6005 - val_loss: 0.6484 - val_accuracy: 0.6430\n",
            "Epoch 7/10\n",
            "100/100 [==============================] - 38s 381ms/step - loss: 0.6565 - accuracy: 0.6005 - val_loss: 0.6433 - val_accuracy: 0.6250\n",
            "Epoch 8/10\n",
            "100/100 [==============================] - 38s 385ms/step - loss: 0.6401 - accuracy: 0.6285 - val_loss: 0.6326 - val_accuracy: 0.6360\n",
            "Epoch 9/10\n",
            "100/100 [==============================] - 38s 384ms/step - loss: 0.6403 - accuracy: 0.6350 - val_loss: 0.6367 - val_accuracy: 0.6510\n",
            "Epoch 10/10\n",
            "100/100 [==============================] - 38s 384ms/step - loss: 0.6202 - accuracy: 0.6410 - val_loss: 0.6477 - val_accuracy: 0.6100\n"
          ]
        }
      ]
    },
    {
      "cell_type": "code",
      "metadata": {
        "colab": {
          "base_uri": "https://localhost:8080/"
        },
        "id": "1JDnRhZdJt1R",
        "outputId": "80182414-5277-4921-a798-432cc7169284"
      },
      "source": [
        "np.median(history.history['accuracy'])"
      ],
      "execution_count": 28,
      "outputs": [
        {
          "output_type": "execute_result",
          "data": {
            "text/plain": [
              "0.6004999876022339"
            ]
          },
          "metadata": {},
          "execution_count": 28
        }
      ]
    },
    {
      "cell_type": "markdown",
      "metadata": {
        "id": "8FHSq-ziKJHF"
      },
      "source": [
        "**_answer_**\n",
        "> **`0.56`**"
      ]
    },
    {
      "cell_type": "markdown",
      "metadata": {
        "id": "tTjRVbOmIqBo"
      },
      "source": [
        "## **Question 4**\n",
        "\n",
        "What is the standard deviation of training loss for this model?"
      ]
    },
    {
      "cell_type": "code",
      "metadata": {
        "colab": {
          "base_uri": "https://localhost:8080/"
        },
        "id": "ui_DQsr_ImuY",
        "outputId": "4a6d2a81-4467-476a-e134-7675ff2c463d"
      },
      "source": [
        "np.std(history.history['loss'])"
      ],
      "execution_count": 31,
      "outputs": [
        {
          "output_type": "execute_result",
          "data": {
            "text/plain": [
              "0.020323706097159108"
            ]
          },
          "metadata": {},
          "execution_count": 31
        }
      ]
    },
    {
      "cell_type": "markdown",
      "metadata": {
        "id": "1OzfIbHzK_PF"
      },
      "source": [
        "**_answer_**\n",
        "> **`0.01`**"
      ]
    },
    {
      "cell_type": "markdown",
      "metadata": {
        "id": "_Gaf5lkoIu_v"
      },
      "source": [
        "## **Data Augmentation**\n",
        "\n",
        "For the next two questions, we'll generate more data using data augmentations. \n",
        "\n",
        "Add the following augmentations to your training data generator:\n",
        "\n",
        "* `rotation_range=40,`\n",
        "* `width_shift_range=0.2,`\n",
        "* `height_shift_range=0.2,`\n",
        "* `shear_range=0.2,`\n",
        "* `zoom_range=0.2,`\n",
        "* `horizontal_flip=True,`\n",
        "* `fill_mode='nearest'`"
      ]
    },
    {
      "cell_type": "code",
      "metadata": {
        "colab": {
          "base_uri": "https://localhost:8080/"
        },
        "id": "XHHjM0UwImys",
        "outputId": "45a79d0b-23f5-4aa4-e449-58ff65a200ec"
      },
      "source": [
        "train_gen = ImageDataGenerator(\n",
        "                               rescale=1./255,\n",
        "                               rotation_range=40,\n",
        "                               width_shift_range=0.2,\n",
        "                               height_shift_range=0.2,\n",
        "                               shear_range=0.2,\n",
        "                               zoom_range=0.2,\n",
        "                               horizontal_flip=True,\n",
        "                               fill_mode='nearest'\n",
        ")\n",
        "\n",
        "train_generator = train_gen.flow_from_directory(\n",
        "    '/content/train/',\n",
        "    target_size=(150, 150),\n",
        "    classes= ['dogs', 'cats'],\n",
        "    class_mode= 'binary',\n",
        "    batch_size=20,\n",
        ")"
      ],
      "execution_count": 32,
      "outputs": [
        {
          "output_type": "stream",
          "name": "stdout",
          "text": [
            "Found 20000 images belonging to 2 classes.\n"
          ]
        }
      ]
    },
    {
      "cell_type": "code",
      "metadata": {
        "id": "a0y46AoAEiW_",
        "colab": {
          "base_uri": "https://localhost:8080/"
        },
        "outputId": "0dd77705-22f8-40a4-c592-67124659021d"
      },
      "source": [
        "history = model.fit(\n",
        "    train_generator,\n",
        "    steps_per_epoch=100,\n",
        "    epochs=10,\n",
        "    validation_data=validation_generator,\n",
        "    validation_steps=50\n",
        ")"
      ],
      "execution_count": 33,
      "outputs": [
        {
          "output_type": "stream",
          "name": "stdout",
          "text": [
            "Epoch 1/10\n",
            "100/100 [==============================] - 46s 464ms/step - loss: 0.6643 - accuracy: 0.5885 - val_loss: 0.6302 - val_accuracy: 0.6540\n",
            "Epoch 2/10\n",
            "100/100 [==============================] - 46s 461ms/step - loss: 0.6619 - accuracy: 0.5875 - val_loss: 0.6307 - val_accuracy: 0.6410\n",
            "Epoch 3/10\n",
            "100/100 [==============================] - 46s 463ms/step - loss: 0.6529 - accuracy: 0.6105 - val_loss: 0.6164 - val_accuracy: 0.6550\n",
            "Epoch 4/10\n",
            "100/100 [==============================] - 46s 464ms/step - loss: 0.6546 - accuracy: 0.6040 - val_loss: 0.6376 - val_accuracy: 0.6060\n",
            "Epoch 5/10\n",
            "100/100 [==============================] - 47s 465ms/step - loss: 0.6522 - accuracy: 0.6165 - val_loss: 0.6201 - val_accuracy: 0.6580\n",
            "Epoch 6/10\n",
            "100/100 [==============================] - 46s 463ms/step - loss: 0.6556 - accuracy: 0.6005 - val_loss: 0.6222 - val_accuracy: 0.6560\n",
            "Epoch 7/10\n",
            "100/100 [==============================] - 46s 463ms/step - loss: 0.6545 - accuracy: 0.6100 - val_loss: 0.6213 - val_accuracy: 0.6450\n",
            "Epoch 8/10\n",
            "100/100 [==============================] - 46s 463ms/step - loss: 0.6522 - accuracy: 0.6075 - val_loss: 0.6162 - val_accuracy: 0.6910\n",
            "Epoch 9/10\n",
            "100/100 [==============================] - 46s 462ms/step - loss: 0.6422 - accuracy: 0.6220 - val_loss: 0.6255 - val_accuracy: 0.6380\n",
            "Epoch 10/10\n",
            "100/100 [==============================] - 46s 460ms/step - loss: 0.6438 - accuracy: 0.6240 - val_loss: 0.6302 - val_accuracy: 0.6410\n"
          ]
        }
      ]
    },
    {
      "cell_type": "markdown",
      "metadata": {
        "id": "zwUtkC1HIzdA"
      },
      "source": [
        "## **Question 5** \n",
        "\n",
        "Let's train our model for 10 more epochs using the same code as previously.\n",
        "Make sure you don't re-create the model - we want to continue training the model\n",
        "we already started training.\n",
        "\n",
        "What is the mean of validation loss for the model trained with augmentations?"
      ]
    },
    {
      "cell_type": "code",
      "metadata": {
        "id": "hnowz4--EiW_",
        "colab": {
          "base_uri": "https://localhost:8080/"
        },
        "outputId": "f7144af5-2596-49d7-ada8-ae7e38e94dd7"
      },
      "source": [
        "np.mean(history.history['val_loss'])"
      ],
      "execution_count": 34,
      "outputs": [
        {
          "output_type": "execute_result",
          "data": {
            "text/plain": [
              "0.6250438749790191"
            ]
          },
          "metadata": {},
          "execution_count": 34
        }
      ]
    },
    {
      "cell_type": "markdown",
      "metadata": {
        "id": "z20ng7t_MvYL"
      },
      "source": [
        "**_answer_**\n",
        "> **`0.67`**"
      ]
    },
    {
      "cell_type": "markdown",
      "metadata": {
        "id": "_-8JxbdGI4uY"
      },
      "source": [
        "## **Question 6**\n",
        "\n",
        "What's the average of validation accuracy for the last 5 epochs (from 6 to 10)\n",
        "for the model trained with augmentations?"
      ]
    },
    {
      "cell_type": "code",
      "metadata": {
        "colab": {
          "base_uri": "https://localhost:8080/"
        },
        "id": "pVQWXyepI3qK",
        "outputId": "e4c59d98-5203-43a9-e56d-57d8a524abe4"
      },
      "source": [
        "np.mean(history.history['val_accuracy'][-5:])"
      ],
      "execution_count": 35,
      "outputs": [
        {
          "output_type": "execute_result",
          "data": {
            "text/plain": [
              "0.6541999936103821"
            ]
          },
          "metadata": {},
          "execution_count": 35
        }
      ]
    },
    {
      "cell_type": "code",
      "metadata": {
        "colab": {
          "base_uri": "https://localhost:8080/"
        },
        "id": "YO6PphkvI3sV",
        "outputId": "a66293d9-6c88-4e50-e6e1-f6c0253bd9a9"
      },
      "source": [
        "history.history['val_accuracy'][-5:]"
      ],
      "execution_count": 36,
      "outputs": [
        {
          "output_type": "execute_result",
          "data": {
            "text/plain": [
              "[0.656000018119812,\n",
              " 0.6449999809265137,\n",
              " 0.6909999847412109,\n",
              " 0.6380000114440918,\n",
              " 0.640999972820282]"
            ]
          },
          "metadata": {},
          "execution_count": 36
        }
      ]
    },
    {
      "cell_type": "markdown",
      "metadata": {
        "id": "K9BAdHFDM4Vi"
      },
      "source": [
        "**_answer_**\n",
        "> **`0.65`**"
      ]
    },
    {
      "cell_type": "markdown",
      "metadata": {
        "id": "-5st2iI3I8zf"
      },
      "source": [
        "## **Submit the results**\n",
        "\n",
        "Submit your results here: https://forms.gle/AE9v22MFnXxB9gyZ8\n",
        "\n",
        "If your answer doesn't match options exactly, select the closest one."
      ]
    },
    {
      "cell_type": "markdown",
      "metadata": {
        "id": "L3WZPWgmJBc2"
      },
      "source": [
        "## **Deadline**\n",
        "\n",
        "The deadline for submitting is 22 November, 17:00 CET. After that, the form will be closed.\n"
      ]
    }
  ]
}